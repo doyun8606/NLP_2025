{
  "nbformat": 4,
  "nbformat_minor": 0,
  "metadata": {
    "colab": {
      "provenance": [],
      "authorship_tag": "ABX9TyOxG6BuhQjCmMJmPl9qyZfw",
      "include_colab_link": true
    },
    "kernelspec": {
      "name": "python3",
      "display_name": "Python 3"
    },
    "language_info": {
      "name": "python"
    }
  },
  "cells": [
    {
      "cell_type": "markdown",
      "metadata": {
        "id": "view-in-github",
        "colab_type": "text"
      },
      "source": [
        "<a href=\"https://colab.research.google.com/github/doyun8606/NLP_2025/blob/main/Untitled0.ipynb\" target=\"_parent\"><img src=\"https://colab.research.google.com/assets/colab-badge.svg\" alt=\"Open In Colab\"/></a>"
      ]
    },
    {
      "cell_type": "markdown",
      "source": [
        "# 📝📝📝 **How to Use <font color = 'red'> Markdown language**\n",
        "* ## For <font color = 'orange'> more syntax</font> of markdown langauge, [Click here.](https://www.markdownguide.org/basic-syntax/)"
      ],
      "metadata": {
        "id": "gjdYlHFMhIb8"
      }
    },
    {
      "cell_type": "markdown",
      "source": [
        "# NLP_2025\n",
        "\n",
        "# 📝📝 **Python Language**\n",
        "\n",
        "##"
      ],
      "metadata": {
        "id": "lkJzcxVBiQtA"
      }
    },
    {
      "cell_type": "markdown",
      "source": [
        "# <font color = 'pink'> Exercise </font>\n",
        "\n",
        "- **AAAAAA**\n",
        "    -um\n",
        "\n",
        "\n",
        "| # | Sessions | Keywords |\n",
        "|:--:|:--:|:--:|\n",
        "| 1 | Markdown language 💬 | Syntax |"
      ],
      "metadata": {
        "id": "b2S-MKwHj2FE"
      }
    }
  ]
}